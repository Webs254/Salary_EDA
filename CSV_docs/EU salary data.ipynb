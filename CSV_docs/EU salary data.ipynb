{
 "cells": [
  {
   "cell_type": "code",
   "execution_count": 1,
   "metadata": {},
   "outputs": [
    {
     "data": {
      "text/plain": [
       "'c:\\\\Users\\\\Webstar Ochieng\\\\Documents'"
      ]
     },
     "execution_count": 1,
     "metadata": {},
     "output_type": "execute_result"
    }
   ],
   "source": [
    "pwd"
   ]
  },
  {
   "cell_type": "code",
   "execution_count": null,
   "metadata": {},
   "outputs": [],
   "source": []
  },
  {
   "cell_type": "code",
   "execution_count": 3,
   "metadata": {},
   "outputs": [
    {
     "data": {
      "text/plain": [
       "'cd Documents/CSV docs'"
      ]
     },
     "execution_count": 3,
     "metadata": {},
     "output_type": "execute_result"
    }
   ],
   "source": [
    "'cd Documents/CSV docs'"
   ]
  },
  {
   "cell_type": "code",
   "execution_count": 4,
   "metadata": {},
   "outputs": [
    {
     "name": "stdout",
     "output_type": "stream",
     "text": [
      "Requirement already satisfied: numpy in c:\\users\\webstar ochieng\\anaconda3\\lib\\site-packages (1.21.5)\n"
     ]
    }
   ],
   "source": [
    "import pandas as pd\n"
   ]
  },
  {
   "cell_type": "code",
   "execution_count": 5,
   "metadata": {},
   "outputs": [],
   "source": [
    "import numpy as np"
   ]
  },
  {
   "cell_type": "code",
   "execution_count": 6,
   "metadata": {},
   "outputs": [
    {
     "name": "stdout",
     "output_type": "stream",
     "text": [
      "\n",
      "Note: you may need to restart the kernel to use updated packages.\n"
     ]
    },
    {
     "name": "stderr",
     "output_type": "stream",
     "text": [
      "\n",
      "EnvironmentLocationNotFound: Not a conda environment: c:\\Users\\Webstar\n",
      "\n"
     ]
    }
   ],
   "source": [
    "conda install matplotlib"
   ]
  },
  {
   "cell_type": "code",
   "execution_count": 7,
   "metadata": {},
   "outputs": [
    {
     "name": "stderr",
     "output_type": "stream",
     "text": [
      "Matplotlib is building the font cache; this may take a moment.\n"
     ]
    }
   ],
   "source": [
    "from matplotlib import pyplot as plt"
   ]
  },
  {
   "cell_type": "code",
   "execution_count": 8,
   "metadata": {},
   "outputs": [],
   "source": [
    "import seaborn as sns"
   ]
  },
  {
   "cell_type": "code",
   "execution_count": 19,
   "metadata": {},
   "outputs": [],
   "source": [
    "sns.set_theme(style=\"darkgrid\")"
   ]
  },
  {
   "cell_type": "code",
   "execution_count": 10,
   "metadata": {},
   "outputs": [
    {
     "name": "stdout",
     "output_type": "stream",
     "text": [
      "[WinError 123] The filename, directory name, or volume label syntax is incorrect: '\\'\"IT Salary Survey EU 2020.csv\\''\n",
      "c:\\Users\\Webstar Ochieng\\Documents\\CSV_docs\n"
     ]
    }
   ],
   "source": [
    "cd '\"IT Salary Survey EU  2020.csv\"'"
   ]
  },
  {
   "cell_type": "code",
   "execution_count": 11,
   "metadata": {},
   "outputs": [
    {
     "data": {
      "text/plain": [
       "<bound method NDFrame.head of                 Timestamp   Age Gender         City  \\\n",
       "0     24/11/2020 11:14:15  26.0   Male       Munich   \n",
       "1     24/11/2020 11:14:16  26.0   Male       Berlin   \n",
       "2     24/11/2020 11:14:21  29.0   Male       Berlin   \n",
       "3     24/11/2020 11:15:24  28.0   Male       Berlin   \n",
       "4     24/11/2020 11:15:46  37.0   Male       Berlin   \n",
       "...                   ...   ...    ...          ...   \n",
       "1248  18/01/2021 15:05:50  31.0   Male       Berlin   \n",
       "1249  18/01/2021 17:46:02  33.0   Male       Berlin   \n",
       "1250  18/01/2021 23:20:35  39.0   Male       Munich   \n",
       "1251  19/01/2021 10:17:58  26.0   Male  Saarbrücken   \n",
       "1252  19/01/2021 12:01:11  26.0   Male       Berlin   \n",
       "\n",
       "                                   Position  Total years of experience  \\\n",
       "0                          Software Engineer                         5   \n",
       "1                          Backend Developer                         7   \n",
       "2                          Software Engineer                        12   \n",
       "3                         Frontend Developer                         4   \n",
       "4                          Backend Developer                        17   \n",
       "...                                      ...                       ...   \n",
       "1248                       Backend Developer                         9   \n",
       "1249  Researcher/ Consumer Insights Analyst                         10   \n",
       "1250                   IT Operations Manager                        15   \n",
       "1251                      Frontend Developer                         7   \n",
       "1252                                  DevOps                         2   \n",
       "\n",
       "     Years of experience in Germany Seniority level  \\\n",
       "0                                 3          Senior   \n",
       "1                                 4          Senior   \n",
       "2                                 6            Lead   \n",
       "3                                 1          Junior   \n",
       "4                                 6          Senior   \n",
       "...                             ...             ...   \n",
       "1248                              5          Senior   \n",
       "1249                            1.5          Senior   \n",
       "1250                              2            Lead   \n",
       "1251                              7          Middle   \n",
       "1252                              2          Middle   \n",
       "\n",
       "     Your main technology / programming language  \\\n",
       "0                                     TypeScript   \n",
       "1                                           Ruby   \n",
       "2                        Javascript / Typescript   \n",
       "3                                     Javascript   \n",
       "4                                        C# .NET   \n",
       "...                                          ...   \n",
       "1248                                        Java   \n",
       "1249                           consumer analysis   \n",
       "1250                                         PHP   \n",
       "1251                                  JavaScript   \n",
       "1252                                        yaml   \n",
       "\n",
       "     Other technologies/programming languages you use often  ...  \\\n",
       "0                       Kotlin, Javascript / Typescript      ...   \n",
       "1                                                   NaN      ...   \n",
       "2                       Javascript / Typescript, Docker      ...   \n",
       "3                                                   NaN      ...   \n",
       "4                                .NET, SQL, AWS, Docker      ...   \n",
       "...                                                 ...      ...   \n",
       "1248  Python, Javascript / Typescript, Java / Scala,...      ...   \n",
       "1249                                                NaN      ...   \n",
       "1250  Python, C/C++, Javascript / Typescript, Java /...      ...   \n",
       "1251  Javascript / Typescript, Docker, HTML, CSS; Ad...      ...   \n",
       "1252  Python, AWS, Kubernetes, Docker, terraform, an...      ...   \n",
       "\n",
       "      Annual bonus+stocks one year ago. Only answer if staying in same country  \\\n",
       "0                                                 10000                          \n",
       "1                                                  5000                          \n",
       "2                                                100000                          \n",
       "3                                                   NaN                          \n",
       "4                                                   NaN                          \n",
       "...                                                 ...                          \n",
       "1248                                              72000                          \n",
       "1249                                               2500                          \n",
       "1250                                                NaN                          \n",
       "1251                                              36400                          \n",
       "1252                                                  0                          \n",
       "\n",
       "     Number of vacation days           Employment status   Сontract duration  \\\n",
       "0                         30          Full-time employee  Unlimited contract   \n",
       "1                         28          Full-time employee  Unlimited contract   \n",
       "2                         30  Self-employed (freelancer)  Temporary contract   \n",
       "3                         24          Full-time employee  Unlimited contract   \n",
       "4                         29          Full-time employee  Unlimited contract   \n",
       "...                      ...                         ...                 ...   \n",
       "1248                      26          Full-time employee  Unlimited contract   \n",
       "1249              unlimited           Full-time employee  Unlimited contract   \n",
       "1250                      28          Full-time employee  Unlimited contract   \n",
       "1251                      27          Full-time employee  Unlimited contract   \n",
       "1252                      30          Full-time employee  Unlimited contract   \n",
       "\n",
       "     Main language at work Company size Company type  \\\n",
       "0                  English       51-100      Product   \n",
       "1                  English     101-1000      Product   \n",
       "2                  English     101-1000      Product   \n",
       "3                  English       51-100      Startup   \n",
       "4                  English     101-1000      Product   \n",
       "...                    ...          ...          ...   \n",
       "1248               English       51-100      Product   \n",
       "1249               English        1000+      Product   \n",
       "1250               English     101-1000    eCommerce   \n",
       "1251                German     101-1000      Product   \n",
       "1252               English       51-100      Startup   \n",
       "\n",
       "     Have you lost your job due to the coronavirus outbreak?  \\\n",
       "0                                                    No        \n",
       "1                                                    No        \n",
       "2                                                   Yes        \n",
       "3                                                    No        \n",
       "4                                                    No        \n",
       "...                                                 ...        \n",
       "1248                                                Yes        \n",
       "1249                                                 No        \n",
       "1250                                                 No        \n",
       "1251                                                 No        \n",
       "1252                                                 No        \n",
       "\n",
       "     Have you been forced to have a shorter working week (Kurzarbeit)? If yes, how many hours per week  \\\n",
       "0                                                   NaN                                                  \n",
       "1                                                   NaN                                                  \n",
       "2                                                   NaN                                                  \n",
       "3                                                   NaN                                                  \n",
       "4                                                   NaN                                                  \n",
       "...                                                 ...                                                  \n",
       "1248                                                NaN                                                  \n",
       "1249                                                NaN                                                  \n",
       "1250                                                NaN                                                  \n",
       "1251                                                NaN                                                  \n",
       "1252                                               30.0                                                  \n",
       "\n",
       "     Have you received additional monetary support from your employer due to Work From Home? If yes, how much in 2020 in EUR  \n",
       "0                                                   NaN                                                                       \n",
       "1                                                   NaN                                                                       \n",
       "2                                                   NaN                                                                       \n",
       "3                                                   NaN                                                                       \n",
       "4                                                   NaN                                                                       \n",
       "...                                                 ...                                                                       \n",
       "1248                                                NaN                                                                       \n",
       "1249                                                  0                                                                       \n",
       "1250                                                NaN                                                                       \n",
       "1251                                                  0                                                                       \n",
       "1252                                                600                                                                       \n",
       "\n",
       "[1253 rows x 23 columns]>"
      ]
     },
     "execution_count": 11,
     "metadata": {},
     "output_type": "execute_result"
    }
   ],
   "source": [
    "df = pd.read_csv(\"IT Salary Survey EU  2020.csv\")\n",
    "df.head"
   ]
  },
  {
   "cell_type": "code",
   "execution_count": 12,
   "metadata": {},
   "outputs": [
    {
     "data": {
      "text/plain": [
       "<bound method NDFrame.tail of                 Timestamp   Age Gender         City  \\\n",
       "0     24/11/2020 11:14:15  26.0   Male       Munich   \n",
       "1     24/11/2020 11:14:16  26.0   Male       Berlin   \n",
       "2     24/11/2020 11:14:21  29.0   Male       Berlin   \n",
       "3     24/11/2020 11:15:24  28.0   Male       Berlin   \n",
       "4     24/11/2020 11:15:46  37.0   Male       Berlin   \n",
       "...                   ...   ...    ...          ...   \n",
       "1248  18/01/2021 15:05:50  31.0   Male       Berlin   \n",
       "1249  18/01/2021 17:46:02  33.0   Male       Berlin   \n",
       "1250  18/01/2021 23:20:35  39.0   Male       Munich   \n",
       "1251  19/01/2021 10:17:58  26.0   Male  Saarbrücken   \n",
       "1252  19/01/2021 12:01:11  26.0   Male       Berlin   \n",
       "\n",
       "                                   Position  Total years of experience  \\\n",
       "0                          Software Engineer                         5   \n",
       "1                          Backend Developer                         7   \n",
       "2                          Software Engineer                        12   \n",
       "3                         Frontend Developer                         4   \n",
       "4                          Backend Developer                        17   \n",
       "...                                      ...                       ...   \n",
       "1248                       Backend Developer                         9   \n",
       "1249  Researcher/ Consumer Insights Analyst                         10   \n",
       "1250                   IT Operations Manager                        15   \n",
       "1251                      Frontend Developer                         7   \n",
       "1252                                  DevOps                         2   \n",
       "\n",
       "     Years of experience in Germany Seniority level  \\\n",
       "0                                 3          Senior   \n",
       "1                                 4          Senior   \n",
       "2                                 6            Lead   \n",
       "3                                 1          Junior   \n",
       "4                                 6          Senior   \n",
       "...                             ...             ...   \n",
       "1248                              5          Senior   \n",
       "1249                            1.5          Senior   \n",
       "1250                              2            Lead   \n",
       "1251                              7          Middle   \n",
       "1252                              2          Middle   \n",
       "\n",
       "     Your main technology / programming language  \\\n",
       "0                                     TypeScript   \n",
       "1                                           Ruby   \n",
       "2                        Javascript / Typescript   \n",
       "3                                     Javascript   \n",
       "4                                        C# .NET   \n",
       "...                                          ...   \n",
       "1248                                        Java   \n",
       "1249                           consumer analysis   \n",
       "1250                                         PHP   \n",
       "1251                                  JavaScript   \n",
       "1252                                        yaml   \n",
       "\n",
       "     Other technologies/programming languages you use often  ...  \\\n",
       "0                       Kotlin, Javascript / Typescript      ...   \n",
       "1                                                   NaN      ...   \n",
       "2                       Javascript / Typescript, Docker      ...   \n",
       "3                                                   NaN      ...   \n",
       "4                                .NET, SQL, AWS, Docker      ...   \n",
       "...                                                 ...      ...   \n",
       "1248  Python, Javascript / Typescript, Java / Scala,...      ...   \n",
       "1249                                                NaN      ...   \n",
       "1250  Python, C/C++, Javascript / Typescript, Java /...      ...   \n",
       "1251  Javascript / Typescript, Docker, HTML, CSS; Ad...      ...   \n",
       "1252  Python, AWS, Kubernetes, Docker, terraform, an...      ...   \n",
       "\n",
       "      Annual bonus+stocks one year ago. Only answer if staying in same country  \\\n",
       "0                                                 10000                          \n",
       "1                                                  5000                          \n",
       "2                                                100000                          \n",
       "3                                                   NaN                          \n",
       "4                                                   NaN                          \n",
       "...                                                 ...                          \n",
       "1248                                              72000                          \n",
       "1249                                               2500                          \n",
       "1250                                                NaN                          \n",
       "1251                                              36400                          \n",
       "1252                                                  0                          \n",
       "\n",
       "     Number of vacation days           Employment status   Сontract duration  \\\n",
       "0                         30          Full-time employee  Unlimited contract   \n",
       "1                         28          Full-time employee  Unlimited contract   \n",
       "2                         30  Self-employed (freelancer)  Temporary contract   \n",
       "3                         24          Full-time employee  Unlimited contract   \n",
       "4                         29          Full-time employee  Unlimited contract   \n",
       "...                      ...                         ...                 ...   \n",
       "1248                      26          Full-time employee  Unlimited contract   \n",
       "1249              unlimited           Full-time employee  Unlimited contract   \n",
       "1250                      28          Full-time employee  Unlimited contract   \n",
       "1251                      27          Full-time employee  Unlimited contract   \n",
       "1252                      30          Full-time employee  Unlimited contract   \n",
       "\n",
       "     Main language at work Company size Company type  \\\n",
       "0                  English       51-100      Product   \n",
       "1                  English     101-1000      Product   \n",
       "2                  English     101-1000      Product   \n",
       "3                  English       51-100      Startup   \n",
       "4                  English     101-1000      Product   \n",
       "...                    ...          ...          ...   \n",
       "1248               English       51-100      Product   \n",
       "1249               English        1000+      Product   \n",
       "1250               English     101-1000    eCommerce   \n",
       "1251                German     101-1000      Product   \n",
       "1252               English       51-100      Startup   \n",
       "\n",
       "     Have you lost your job due to the coronavirus outbreak?  \\\n",
       "0                                                    No        \n",
       "1                                                    No        \n",
       "2                                                   Yes        \n",
       "3                                                    No        \n",
       "4                                                    No        \n",
       "...                                                 ...        \n",
       "1248                                                Yes        \n",
       "1249                                                 No        \n",
       "1250                                                 No        \n",
       "1251                                                 No        \n",
       "1252                                                 No        \n",
       "\n",
       "     Have you been forced to have a shorter working week (Kurzarbeit)? If yes, how many hours per week  \\\n",
       "0                                                   NaN                                                  \n",
       "1                                                   NaN                                                  \n",
       "2                                                   NaN                                                  \n",
       "3                                                   NaN                                                  \n",
       "4                                                   NaN                                                  \n",
       "...                                                 ...                                                  \n",
       "1248                                                NaN                                                  \n",
       "1249                                                NaN                                                  \n",
       "1250                                                NaN                                                  \n",
       "1251                                                NaN                                                  \n",
       "1252                                               30.0                                                  \n",
       "\n",
       "     Have you received additional monetary support from your employer due to Work From Home? If yes, how much in 2020 in EUR  \n",
       "0                                                   NaN                                                                       \n",
       "1                                                   NaN                                                                       \n",
       "2                                                   NaN                                                                       \n",
       "3                                                   NaN                                                                       \n",
       "4                                                   NaN                                                                       \n",
       "...                                                 ...                                                                       \n",
       "1248                                                NaN                                                                       \n",
       "1249                                                  0                                                                       \n",
       "1250                                                NaN                                                                       \n",
       "1251                                                  0                                                                       \n",
       "1252                                                600                                                                       \n",
       "\n",
       "[1253 rows x 23 columns]>"
      ]
     },
     "execution_count": 12,
     "metadata": {},
     "output_type": "execute_result"
    }
   ],
   "source": [
    "df.tail"
   ]
  },
  {
   "cell_type": "code",
   "execution_count": 13,
   "metadata": {},
   "outputs": [
    {
     "data": {
      "text/plain": [
       "(1253, 23)"
      ]
     },
     "execution_count": 13,
     "metadata": {},
     "output_type": "execute_result"
    }
   ],
   "source": [
    "df.shape"
   ]
  },
  {
   "cell_type": "code",
   "execution_count": 14,
   "metadata": {},
   "outputs": [
    {
     "data": {
      "text/plain": [
       "<bound method DataFrame.info of                 Timestamp   Age Gender         City  \\\n",
       "0     24/11/2020 11:14:15  26.0   Male       Munich   \n",
       "1     24/11/2020 11:14:16  26.0   Male       Berlin   \n",
       "2     24/11/2020 11:14:21  29.0   Male       Berlin   \n",
       "3     24/11/2020 11:15:24  28.0   Male       Berlin   \n",
       "4     24/11/2020 11:15:46  37.0   Male       Berlin   \n",
       "...                   ...   ...    ...          ...   \n",
       "1248  18/01/2021 15:05:50  31.0   Male       Berlin   \n",
       "1249  18/01/2021 17:46:02  33.0   Male       Berlin   \n",
       "1250  18/01/2021 23:20:35  39.0   Male       Munich   \n",
       "1251  19/01/2021 10:17:58  26.0   Male  Saarbrücken   \n",
       "1252  19/01/2021 12:01:11  26.0   Male       Berlin   \n",
       "\n",
       "                                   Position  Total years of experience  \\\n",
       "0                          Software Engineer                         5   \n",
       "1                          Backend Developer                         7   \n",
       "2                          Software Engineer                        12   \n",
       "3                         Frontend Developer                         4   \n",
       "4                          Backend Developer                        17   \n",
       "...                                      ...                       ...   \n",
       "1248                       Backend Developer                         9   \n",
       "1249  Researcher/ Consumer Insights Analyst                         10   \n",
       "1250                   IT Operations Manager                        15   \n",
       "1251                      Frontend Developer                         7   \n",
       "1252                                  DevOps                         2   \n",
       "\n",
       "     Years of experience in Germany Seniority level  \\\n",
       "0                                 3          Senior   \n",
       "1                                 4          Senior   \n",
       "2                                 6            Lead   \n",
       "3                                 1          Junior   \n",
       "4                                 6          Senior   \n",
       "...                             ...             ...   \n",
       "1248                              5          Senior   \n",
       "1249                            1.5          Senior   \n",
       "1250                              2            Lead   \n",
       "1251                              7          Middle   \n",
       "1252                              2          Middle   \n",
       "\n",
       "     Your main technology / programming language  \\\n",
       "0                                     TypeScript   \n",
       "1                                           Ruby   \n",
       "2                        Javascript / Typescript   \n",
       "3                                     Javascript   \n",
       "4                                        C# .NET   \n",
       "...                                          ...   \n",
       "1248                                        Java   \n",
       "1249                           consumer analysis   \n",
       "1250                                         PHP   \n",
       "1251                                  JavaScript   \n",
       "1252                                        yaml   \n",
       "\n",
       "     Other technologies/programming languages you use often  ...  \\\n",
       "0                       Kotlin, Javascript / Typescript      ...   \n",
       "1                                                   NaN      ...   \n",
       "2                       Javascript / Typescript, Docker      ...   \n",
       "3                                                   NaN      ...   \n",
       "4                                .NET, SQL, AWS, Docker      ...   \n",
       "...                                                 ...      ...   \n",
       "1248  Python, Javascript / Typescript, Java / Scala,...      ...   \n",
       "1249                                                NaN      ...   \n",
       "1250  Python, C/C++, Javascript / Typescript, Java /...      ...   \n",
       "1251  Javascript / Typescript, Docker, HTML, CSS; Ad...      ...   \n",
       "1252  Python, AWS, Kubernetes, Docker, terraform, an...      ...   \n",
       "\n",
       "      Annual bonus+stocks one year ago. Only answer if staying in same country  \\\n",
       "0                                                 10000                          \n",
       "1                                                  5000                          \n",
       "2                                                100000                          \n",
       "3                                                   NaN                          \n",
       "4                                                   NaN                          \n",
       "...                                                 ...                          \n",
       "1248                                              72000                          \n",
       "1249                                               2500                          \n",
       "1250                                                NaN                          \n",
       "1251                                              36400                          \n",
       "1252                                                  0                          \n",
       "\n",
       "     Number of vacation days           Employment status   Сontract duration  \\\n",
       "0                         30          Full-time employee  Unlimited contract   \n",
       "1                         28          Full-time employee  Unlimited contract   \n",
       "2                         30  Self-employed (freelancer)  Temporary contract   \n",
       "3                         24          Full-time employee  Unlimited contract   \n",
       "4                         29          Full-time employee  Unlimited contract   \n",
       "...                      ...                         ...                 ...   \n",
       "1248                      26          Full-time employee  Unlimited contract   \n",
       "1249              unlimited           Full-time employee  Unlimited contract   \n",
       "1250                      28          Full-time employee  Unlimited contract   \n",
       "1251                      27          Full-time employee  Unlimited contract   \n",
       "1252                      30          Full-time employee  Unlimited contract   \n",
       "\n",
       "     Main language at work Company size Company type  \\\n",
       "0                  English       51-100      Product   \n",
       "1                  English     101-1000      Product   \n",
       "2                  English     101-1000      Product   \n",
       "3                  English       51-100      Startup   \n",
       "4                  English     101-1000      Product   \n",
       "...                    ...          ...          ...   \n",
       "1248               English       51-100      Product   \n",
       "1249               English        1000+      Product   \n",
       "1250               English     101-1000    eCommerce   \n",
       "1251                German     101-1000      Product   \n",
       "1252               English       51-100      Startup   \n",
       "\n",
       "     Have you lost your job due to the coronavirus outbreak?  \\\n",
       "0                                                    No        \n",
       "1                                                    No        \n",
       "2                                                   Yes        \n",
       "3                                                    No        \n",
       "4                                                    No        \n",
       "...                                                 ...        \n",
       "1248                                                Yes        \n",
       "1249                                                 No        \n",
       "1250                                                 No        \n",
       "1251                                                 No        \n",
       "1252                                                 No        \n",
       "\n",
       "     Have you been forced to have a shorter working week (Kurzarbeit)? If yes, how many hours per week  \\\n",
       "0                                                   NaN                                                  \n",
       "1                                                   NaN                                                  \n",
       "2                                                   NaN                                                  \n",
       "3                                                   NaN                                                  \n",
       "4                                                   NaN                                                  \n",
       "...                                                 ...                                                  \n",
       "1248                                                NaN                                                  \n",
       "1249                                                NaN                                                  \n",
       "1250                                                NaN                                                  \n",
       "1251                                                NaN                                                  \n",
       "1252                                               30.0                                                  \n",
       "\n",
       "     Have you received additional monetary support from your employer due to Work From Home? If yes, how much in 2020 in EUR  \n",
       "0                                                   NaN                                                                       \n",
       "1                                                   NaN                                                                       \n",
       "2                                                   NaN                                                                       \n",
       "3                                                   NaN                                                                       \n",
       "4                                                   NaN                                                                       \n",
       "...                                                 ...                                                                       \n",
       "1248                                                NaN                                                                       \n",
       "1249                                                  0                                                                       \n",
       "1250                                                NaN                                                                       \n",
       "1251                                                  0                                                                       \n",
       "1252                                                600                                                                       \n",
       "\n",
       "[1253 rows x 23 columns]>"
      ]
     },
     "execution_count": 14,
     "metadata": {},
     "output_type": "execute_result"
    }
   ],
   "source": [
    "df.info"
   ]
  },
  {
   "cell_type": "code",
   "execution_count": 15,
   "metadata": {},
   "outputs": [
    {
     "data": {
      "text/plain": [
       "<bound method NDFrame.describe of                 Timestamp   Age Gender         City  \\\n",
       "0     24/11/2020 11:14:15  26.0   Male       Munich   \n",
       "1     24/11/2020 11:14:16  26.0   Male       Berlin   \n",
       "2     24/11/2020 11:14:21  29.0   Male       Berlin   \n",
       "3     24/11/2020 11:15:24  28.0   Male       Berlin   \n",
       "4     24/11/2020 11:15:46  37.0   Male       Berlin   \n",
       "...                   ...   ...    ...          ...   \n",
       "1248  18/01/2021 15:05:50  31.0   Male       Berlin   \n",
       "1249  18/01/2021 17:46:02  33.0   Male       Berlin   \n",
       "1250  18/01/2021 23:20:35  39.0   Male       Munich   \n",
       "1251  19/01/2021 10:17:58  26.0   Male  Saarbrücken   \n",
       "1252  19/01/2021 12:01:11  26.0   Male       Berlin   \n",
       "\n",
       "                                   Position  Total years of experience  \\\n",
       "0                          Software Engineer                         5   \n",
       "1                          Backend Developer                         7   \n",
       "2                          Software Engineer                        12   \n",
       "3                         Frontend Developer                         4   \n",
       "4                          Backend Developer                        17   \n",
       "...                                      ...                       ...   \n",
       "1248                       Backend Developer                         9   \n",
       "1249  Researcher/ Consumer Insights Analyst                         10   \n",
       "1250                   IT Operations Manager                        15   \n",
       "1251                      Frontend Developer                         7   \n",
       "1252                                  DevOps                         2   \n",
       "\n",
       "     Years of experience in Germany Seniority level  \\\n",
       "0                                 3          Senior   \n",
       "1                                 4          Senior   \n",
       "2                                 6            Lead   \n",
       "3                                 1          Junior   \n",
       "4                                 6          Senior   \n",
       "...                             ...             ...   \n",
       "1248                              5          Senior   \n",
       "1249                            1.5          Senior   \n",
       "1250                              2            Lead   \n",
       "1251                              7          Middle   \n",
       "1252                              2          Middle   \n",
       "\n",
       "     Your main technology / programming language  \\\n",
       "0                                     TypeScript   \n",
       "1                                           Ruby   \n",
       "2                        Javascript / Typescript   \n",
       "3                                     Javascript   \n",
       "4                                        C# .NET   \n",
       "...                                          ...   \n",
       "1248                                        Java   \n",
       "1249                           consumer analysis   \n",
       "1250                                         PHP   \n",
       "1251                                  JavaScript   \n",
       "1252                                        yaml   \n",
       "\n",
       "     Other technologies/programming languages you use often  ...  \\\n",
       "0                       Kotlin, Javascript / Typescript      ...   \n",
       "1                                                   NaN      ...   \n",
       "2                       Javascript / Typescript, Docker      ...   \n",
       "3                                                   NaN      ...   \n",
       "4                                .NET, SQL, AWS, Docker      ...   \n",
       "...                                                 ...      ...   \n",
       "1248  Python, Javascript / Typescript, Java / Scala,...      ...   \n",
       "1249                                                NaN      ...   \n",
       "1250  Python, C/C++, Javascript / Typescript, Java /...      ...   \n",
       "1251  Javascript / Typescript, Docker, HTML, CSS; Ad...      ...   \n",
       "1252  Python, AWS, Kubernetes, Docker, terraform, an...      ...   \n",
       "\n",
       "      Annual bonus+stocks one year ago. Only answer if staying in same country  \\\n",
       "0                                                 10000                          \n",
       "1                                                  5000                          \n",
       "2                                                100000                          \n",
       "3                                                   NaN                          \n",
       "4                                                   NaN                          \n",
       "...                                                 ...                          \n",
       "1248                                              72000                          \n",
       "1249                                               2500                          \n",
       "1250                                                NaN                          \n",
       "1251                                              36400                          \n",
       "1252                                                  0                          \n",
       "\n",
       "     Number of vacation days           Employment status   Сontract duration  \\\n",
       "0                         30          Full-time employee  Unlimited contract   \n",
       "1                         28          Full-time employee  Unlimited contract   \n",
       "2                         30  Self-employed (freelancer)  Temporary contract   \n",
       "3                         24          Full-time employee  Unlimited contract   \n",
       "4                         29          Full-time employee  Unlimited contract   \n",
       "...                      ...                         ...                 ...   \n",
       "1248                      26          Full-time employee  Unlimited contract   \n",
       "1249              unlimited           Full-time employee  Unlimited contract   \n",
       "1250                      28          Full-time employee  Unlimited contract   \n",
       "1251                      27          Full-time employee  Unlimited contract   \n",
       "1252                      30          Full-time employee  Unlimited contract   \n",
       "\n",
       "     Main language at work Company size Company type  \\\n",
       "0                  English       51-100      Product   \n",
       "1                  English     101-1000      Product   \n",
       "2                  English     101-1000      Product   \n",
       "3                  English       51-100      Startup   \n",
       "4                  English     101-1000      Product   \n",
       "...                    ...          ...          ...   \n",
       "1248               English       51-100      Product   \n",
       "1249               English        1000+      Product   \n",
       "1250               English     101-1000    eCommerce   \n",
       "1251                German     101-1000      Product   \n",
       "1252               English       51-100      Startup   \n",
       "\n",
       "     Have you lost your job due to the coronavirus outbreak?  \\\n",
       "0                                                    No        \n",
       "1                                                    No        \n",
       "2                                                   Yes        \n",
       "3                                                    No        \n",
       "4                                                    No        \n",
       "...                                                 ...        \n",
       "1248                                                Yes        \n",
       "1249                                                 No        \n",
       "1250                                                 No        \n",
       "1251                                                 No        \n",
       "1252                                                 No        \n",
       "\n",
       "     Have you been forced to have a shorter working week (Kurzarbeit)? If yes, how many hours per week  \\\n",
       "0                                                   NaN                                                  \n",
       "1                                                   NaN                                                  \n",
       "2                                                   NaN                                                  \n",
       "3                                                   NaN                                                  \n",
       "4                                                   NaN                                                  \n",
       "...                                                 ...                                                  \n",
       "1248                                                NaN                                                  \n",
       "1249                                                NaN                                                  \n",
       "1250                                                NaN                                                  \n",
       "1251                                                NaN                                                  \n",
       "1252                                               30.0                                                  \n",
       "\n",
       "     Have you received additional monetary support from your employer due to Work From Home? If yes, how much in 2020 in EUR  \n",
       "0                                                   NaN                                                                       \n",
       "1                                                   NaN                                                                       \n",
       "2                                                   NaN                                                                       \n",
       "3                                                   NaN                                                                       \n",
       "4                                                   NaN                                                                       \n",
       "...                                                 ...                                                                       \n",
       "1248                                                NaN                                                                       \n",
       "1249                                                  0                                                                       \n",
       "1250                                                NaN                                                                       \n",
       "1251                                                  0                                                                       \n",
       "1252                                                600                                                                       \n",
       "\n",
       "[1253 rows x 23 columns]>"
      ]
     },
     "execution_count": 15,
     "metadata": {},
     "output_type": "execute_result"
    }
   ],
   "source": [
    "df.describe"
   ]
  },
  {
   "cell_type": "code",
   "execution_count": 40,
   "metadata": {},
   "outputs": [
    {
     "data": {
      "text/html": [
       "<div>\n",
       "<style scoped>\n",
       "    .dataframe tbody tr th:only-of-type {\n",
       "        vertical-align: middle;\n",
       "    }\n",
       "\n",
       "    .dataframe tbody tr th {\n",
       "        vertical-align: top;\n",
       "    }\n",
       "\n",
       "    .dataframe thead th {\n",
       "        text-align: right;\n",
       "    }\n",
       "</style>\n",
       "<table border=\"1\" class=\"dataframe\">\n",
       "  <thead>\n",
       "    <tr style=\"text-align: right;\">\n",
       "      <th></th>\n",
       "      <th>Age</th>\n",
       "    </tr>\n",
       "  </thead>\n",
       "  <tbody>\n",
       "    <tr>\n",
       "      <th>Age</th>\n",
       "      <td>1.0</td>\n",
       "    </tr>\n",
       "  </tbody>\n",
       "</table>\n",
       "</div>"
      ],
      "text/plain": [
       "     Age\n",
       "Age  1.0"
      ]
     },
     "execution_count": 40,
     "metadata": {},
     "output_type": "execute_result"
    }
   ],
   "source": [
    "summary.corr(method='pearson')"
   ]
  },
  {
   "cell_type": "code",
   "execution_count": null,
   "metadata": {},
   "outputs": [],
   "source": []
  },
  {
   "cell_type": "code",
   "execution_count": 20,
   "metadata": {},
   "outputs": [],
   "source": [
    "# Calculate summary statistics for city of residence and average salary\n",
    "summary = df.groupby(\"City\").agg({\"Age\": \"mean\"})"
   ]
  },
  {
   "cell_type": "code",
   "execution_count": 21,
   "metadata": {},
   "outputs": [
    {
     "name": "stdout",
     "output_type": "stream",
     "text": [
      "            Age\n",
      "City           \n",
      "Aachen     30.5\n",
      "Amsterdam  30.0\n",
      "Ansbach    30.0\n",
      "Barcelona  29.5\n",
      "Basel      29.0\n",
      "...         ...\n",
      "Wroclaw    42.0\n",
      "Würzburg   28.0\n",
      "Zurich     34.2\n",
      "Zürich     22.0\n",
      "warsaw     28.0\n",
      "\n",
      "[119 rows x 1 columns]\n"
     ]
    }
   ],
   "source": [
    "print(summary)"
   ]
  },
  {
   "cell_type": "code",
   "execution_count": 38,
   "metadata": {},
   "outputs": [],
   "source": [
    "# Calculate the correlation between programming language and salary\n",
    "correlation = df[[\"Age\", \"Number of vacation days\"]].corr()"
   ]
  },
  {
   "cell_type": "code",
   "execution_count": 39,
   "metadata": {},
   "outputs": [
    {
     "name": "stdout",
     "output_type": "stream",
     "text": [
      "     Age\n",
      "Age  1.0\n"
     ]
    }
   ],
   "source": [
    "print(correlation)"
   ]
  }
 ],
 "metadata": {
  "kernelspec": {
   "display_name": "Python 3",
   "language": "python",
   "name": "python3"
  },
  "language_info": {
   "codemirror_mode": {
    "name": "ipython",
    "version": 3
   },
   "file_extension": ".py",
   "mimetype": "text/x-python",
   "name": "python",
   "nbconvert_exporter": "python",
   "pygments_lexer": "ipython3",
   "version": "3.9.13"
  },
  "orig_nbformat": 4,
  "vscode": {
   "interpreter": {
    "hash": "64a340e5bae025ac69b9cc8853b88a556e557146fe263cc3e955cd3e7b2d5314"
   }
  }
 },
 "nbformat": 4,
 "nbformat_minor": 2
}
